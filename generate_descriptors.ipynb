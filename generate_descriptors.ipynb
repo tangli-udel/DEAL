{
 "cells": [
  {
   "cell_type": "code",
   "execution_count": 1,
   "metadata": {},
   "outputs": [],
   "source": [
    "import os\n",
    "import openai\n",
    "import json\n",
    "\n",
    "import sys\n",
    "# setting path\n",
    "sys.path.append('../')\n",
    "\n",
    "import itertools\n",
    "\n",
    "from descriptor_strings import stringtolist\n",
    "\n",
    "openai.api_key = \"\" #FILL IN YOUR OWN HERE"
   ]
  },
  {
   "cell_type": "code",
   "execution_count": 2,
   "metadata": {},
   "outputs": [],
   "source": [
    "def generate_prompt(category_name: str):\n",
    "    # you can replace the examples with whatever you want; these were random and worked, could be improved\n",
    "    return f\"\"\"Q: What are useful visual features for distinguishing a Persian Cat in a photo? These features should be visually distinct and have limited overlap with each other. Please list 6 of them and sort them in descending order of importance. For each item, you should be concise and precise, and use no more than five words. No ambiguous answers.\n",
    "A: There are several useful visual features to tell there is a Persian Cat in a photo:\n",
    "- Flat, round face\n",
    "- Long, dense fur\n",
    "- Short, stubby nose\n",
    "- Large, round eyes\n",
    "- Short, thick legs\n",
    "- Flowing tail\n",
    "\n",
    "Q: What are useful visual features for distinguishing a Tench in a photo? These features should be visually distinct and have limited overlap with each other. Please list 6 of them and sort them in descending order of importance. For each item, you should be concise and precise, and use no more than five words. No ambiguous answers.\n",
    "A: There are several useful visual features to tell there is a Tench in a photo:\n",
    "- Olive-green body color\n",
    "- Thick, slimy skin\n",
    "- Small, red eyes\n",
    "- Rounded fins\n",
    "- Cylindrical body shape\n",
    "- Barbels near mouth\n",
    "\n",
    "Q: What are useful visual features for distinguishing a {category_name} in a photo? These features should be visually distinct and have limited overlap with each other. Please list 6 of them and sort them in descending order of importance. For each item, you should be concise and precise, and use no more than five words. No ambiguous answers.\n",
    "A: There are several useful visual features to tell there is a {category_name} in a photo:\n",
    "\"\"\""
   ]
  },
  {
   "cell_type": "code",
   "execution_count": 3,
   "metadata": {},
   "outputs": [],
   "source": [
    "# generator \n",
    "def partition(lst, size):\n",
    "    for i in range(0, len(lst), size):\n",
    "        yield list(itertools.islice(lst, i, i + size))"
   ]
  },
  {
   "cell_type": "code",
   "execution_count": 4,
   "metadata": {},
   "outputs": [],
   "source": [
    "def obtain_descriptors_and_save(filename, class_list):\n",
    "    responses = {}\n",
    "    descriptors = {}\n",
    "    \n",
    "    prompts = [generate_prompt(category.replace('_', ' ')) for category in class_list]\n",
    "    \n",
    "    \n",
    "    # most efficient way is to partition all prompts into the max size that can be concurrently queried from the OpenAI API\n",
    "    responses = [openai.Completion.create(model=\"text-davinci-003\",\n",
    "                                            prompt=prompt_partition,\n",
    "                                            temperature=0.,\n",
    "                                            max_tokens=100,\n",
    "                                            ) for prompt_partition in partition(prompts, 20)]\n",
    "    response_texts = [r[\"text\"] for resp in responses for r in resp['choices']]\n",
    "    descriptors_list = [stringtolist(response_text) for response_text in response_texts]\n",
    "    descriptors = {cat: descr for cat, descr in zip(class_list, descriptors_list)}\n",
    "\n",
    "    # save descriptors to json file\n",
    "    if not filename.endswith('.json'):\n",
    "        filename += '.json'\n",
    "    with open(filename, 'w') as fp:\n",
    "        json.dump(descriptors, fp)"
   ]
  },
  {
   "cell_type": "code",
   "execution_count": 5,
   "metadata": {},
   "outputs": [],
   "source": [
    "with open('/usa/tangli/Projects/concept_exp/descriptors/my_imagenet.json', 'r') as file:\n",
    "    data = json.load(file)\n",
    "keys = list(data.keys())"
   ]
  },
  {
   "cell_type": "code",
   "execution_count": 8,
   "metadata": {},
   "outputs": [],
   "source": [
    "obtain_descriptors_and_save('/usa/tangli/Projects/concept_exp/descriptors/my_cub.json', keys)"
   ]
  }
 ],
 "metadata": {
  "kernelspec": {
   "display_name": "base",
   "language": "python",
   "name": "base"
  },
  "language_info": {
   "codemirror_mode": {
    "name": "ipython",
    "version": 3
   },
   "file_extension": ".py",
   "mimetype": "text/x-python",
   "name": "python",
   "nbconvert_exporter": "python",
   "pygments_lexer": "ipython3",
   "version": "3.11.0"
  },
  "orig_nbformat": 4
 },
 "nbformat": 4,
 "nbformat_minor": 2
}
