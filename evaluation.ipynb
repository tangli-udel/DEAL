{
 "cells": [
  {
   "cell_type": "code",
   "execution_count": null,
   "metadata": {},
   "outputs": [],
   "source": [
    "import os\n",
    "os.environ[\"CUDA_VISIBLE_DEVICES\"] = \"6\"\n",
    "\n",
    "from load import *\n",
    "import torchmetrics\n",
    "from tqdm import tqdm\n",
    "import clip\n",
    "\n",
    "seed_everything(hparams['seed'])"
   ]
  },
  {
   "cell_type": "code",
   "execution_count": 2,
   "metadata": {},
   "outputs": [],
   "source": [
    "bs = hparams['batch_size']\n",
    "dataset = ImageNet(hparams['data_dir'], split='val', transform=tfms)\n",
    "# dataset = CUBDataset(hparams['data_dir'], train=False, transform=tfms)\n",
    "# dataset = torchvision.datasets.OxfordIIITPet(root=hparams['data_dir'], transform=tfms, split='test')\n",
    "# dataset = test_set # EuroSAT\n",
    "# dataset = torchvision.datasets.Food101(root=hparams['data_dir'], transform=tfms, split='test')\n",
    "\n",
    "dataloader = DataLoader(dataset, bs, shuffle=True, num_workers=16, pin_memory=True)"
   ]
  },
  {
   "cell_type": "code",
   "execution_count": null,
   "metadata": {},
   "outputs": [],
   "source": [
    "print(\"Loading model...\")\n",
    "\n",
    "device = torch.device(hparams['device'])\n",
    "# load model\n",
    "model, preprocess = clip.load(hparams['model_size'], device=device, jit=False)\n",
    "checkpoint = torch.load(\"/path/to/your/model.pt\")\n",
    "model.load_state_dict(checkpoint['model_state_dict'])\n",
    "model.eval()\n",
    "model.requires_grad_(False)"
   ]
  },
  {
   "cell_type": "code",
   "execution_count": null,
   "metadata": {},
   "outputs": [],
   "source": [
    "print(\"Encoding descriptions...\")\n",
    "\n",
    "label_encodings = compute_label_encodings(model)"
   ]
  },
  {
   "cell_type": "code",
   "execution_count": null,
   "metadata": {},
   "outputs": [],
   "source": [
    "print(\"Evaluating...\")\n",
    "clip_accuracy_metric = torchmetrics.Accuracy().to(device)\n",
    "clip_accuracy_metric_top5 = torchmetrics.Accuracy(top_k=5).to(device)"
   ]
  },
  {
   "cell_type": "code",
   "execution_count": null,
   "metadata": {},
   "outputs": [],
   "source": [
    "for batch_number, batch in enumerate(tqdm(dataloader)):\n",
    "    images, labels = batch\n",
    "    \n",
    "    images = images.to(device)\n",
    "    labels = labels.to(device)\n",
    "    \n",
    "    image_encodings = model.encode_image(images)\n",
    "    image_encodings = F.normalize(image_encodings)\n",
    "    \n",
    "    image_labels_similarity = image_encodings @ label_encodings.T\n",
    "    clip_predictions = image_labels_similarity.argmax(dim=1)\n",
    "    \n",
    "    clip_acc = clip_accuracy_metric(image_labels_similarity, labels)\n",
    "    clip_acc_top5 = clip_accuracy_metric_top5(image_labels_similarity, labels)\n",
    "      \n",
    "\n",
    "print(\"\\n\")\n",
    "\n",
    "accuracy_logs = {}\n",
    "accuracy_logs[\"Total CLIP-Standard Top-1 Accuracy: \"] = 100*clip_accuracy_metric.compute().item()\n",
    "accuracy_logs[\"Total CLIP-Standard Top-5 Accuracy: \"] = 100*clip_accuracy_metric_top5.compute().item()\n",
    "\n",
    "# print the dictionary\n",
    "print(\"\\n\")\n",
    "for key, value in accuracy_logs.items():\n",
    "    print(key, value)"
   ]
  }
 ],
 "metadata": {
  "kernelspec": {
   "display_name": "base",
   "language": "python",
   "name": "python3"
  },
  "language_info": {
   "codemirror_mode": {
    "name": "ipython",
    "version": 3
   },
   "file_extension": ".py",
   "mimetype": "text/x-python",
   "name": "python",
   "nbconvert_exporter": "python",
   "pygments_lexer": "ipython3",
   "version": "3.11.0"
  },
  "orig_nbformat": 4
 },
 "nbformat": 4,
 "nbformat_minor": 2
}
